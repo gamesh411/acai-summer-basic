{
 "cells": [
  {
   "cell_type": "code",
   "execution_count": null,
   "metadata": {
    "collapsed": true
   },
   "outputs": [],
   "source": [
    "import matplotlib.pyplot as plt\n",
    "import matplotlib\n",
    "import random\n",
    "from mal import *\n",
    "\n",
    "%matplotlib inline"
   ]
  },
  {
   "cell_type": "code",
   "execution_count": null,
   "metadata": {
    "collapsed": false
   },
   "outputs": [],
   "source": [
    "EPISODES = 10000\n",
    "EPSILON = 0.1\n",
    "GAMMA = 0.9\n",
    "LEARNING_RATE = 0.1\n",
    "NOAGENTS = 3\n",
    "\n",
    "def argmax(l):\n",
    "    \"\"\" Return the index of the maximum element of a list\n",
    "    \"\"\"\n",
    "    return max(enumerate(l), key=lambda x:x[1])[0]"
   ]
  },
  {
   "cell_type": "code",
   "execution_count": null,
   "metadata": {
    "collapsed": false
   },
   "outputs": [],
   "source": [
    "env = MatchingPennies(NOAGENTS)\n",
    "#env = Climbing(NOAGENTS)\n",
    "average_cumulative_reward = [0.0 for _ in range(0,NOAGENTS)]\n",
    "\n",
    "# Loop over episodes\n",
    "for i in range(EPISODES):\n",
    "    #YOUR CODE HERE\n",
    "    print(i)"
   ]
  },
  {
   "cell_type": "code",
   "execution_count": null,
   "metadata": {
    "collapsed": true
   },
   "outputs": [],
   "source": []
  }
 ],
 "metadata": {
  "kernelspec": {
   "display_name": "Python 3",
   "language": "python",
   "name": "python3"
  },
  "language_info": {
   "codemirror_mode": {
    "name": "ipython",
    "version": 3
   },
   "file_extension": ".py",
   "mimetype": "text/x-python",
   "name": "python",
   "nbconvert_exporter": "python",
   "pygments_lexer": "ipython3",
   "version": "3.5.3"
  }
 },
 "nbformat": 4,
 "nbformat_minor": 1
}
